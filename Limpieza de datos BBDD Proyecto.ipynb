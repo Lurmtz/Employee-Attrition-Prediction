{
 "cells": [
  {
   "cell_type": "markdown",
   "id": "5386f417-0716-49d8-ba12-205206ad322a",
   "metadata": {},
   "source": [
    "# ¿Quién tiene más probabilidades de marcharse?"
   ]
  },
  {
   "cell_type": "code",
   "execution_count": 1,
   "id": "eeb82c09-989c-435c-a4ed-85ae88528f05",
   "metadata": {
    "editable": true,
    "slideshow": {
     "slide_type": ""
    },
    "tags": []
   },
   "outputs": [],
   "source": [
    "import pandas as pd\n",
    "import numpy as np\n",
    "import seaborn as sns\n",
    "import matplotlib.pyplot as plt\n",
    "import pyodbc\n",
    "from sklearn.model_selection import train_test_split\n",
    "from sklearn.tree import DecisionTreeClassifier\n",
    "from sklearn.ensemble import RandomForestClassifier\n",
    "from sklearn import tree\n",
    "from sklearn.linear_model import LogisticRegression\n",
    "from sklearn.metrics import accuracy_score\n",
    "from statsmodels.stats.outliers_influence import variance_inflation_factor\n",
    "from sklearn.metrics import classification_report, confusion_matrix, roc_auc_score\n",
    "from sklearn.preprocessing import StandardScaler\n",
    "from sklearn.decomposition import PCA"
   ]
  },
  {
   "cell_type": "code",
   "execution_count": 2,
   "id": "6ff81d69-5ee9-4dfc-85ad-fe55ac5278eb",
   "metadata": {
    "editable": true,
    "slideshow": {
     "slide_type": ""
    },
    "tags": []
   },
   "outputs": [],
   "source": [
    "df = pd.read_csv(\"aug_train.csv\")"
   ]
  },
  {
   "cell_type": "markdown",
   "id": "c092aead-1d0d-4949-a74c-f3c31a6324ec",
   "metadata": {},
   "source": [
    "# 1 Entender el Dataset"
   ]
  },
  {
   "cell_type": "code",
   "execution_count": 3,
   "id": "bd8cdee2-703b-462e-be92-fc16cb43f622",
   "metadata": {
    "editable": true,
    "slideshow": {
     "slide_type": ""
    },
    "tags": []
   },
   "outputs": [
    {
     "data": {
      "text/plain": [
       "enrollee_id                 int64\n",
       "city                       object\n",
       "city_development_index    float64\n",
       "gender                     object\n",
       "relevent_experience        object\n",
       "enrolled_university        object\n",
       "education_level            object\n",
       "major_discipline           object\n",
       "experience                 object\n",
       "company_size               object\n",
       "company_type               object\n",
       "last_new_job               object\n",
       "training_hours              int64\n",
       "target                    float64\n",
       "dtype: object"
      ]
     },
     "execution_count": 3,
     "metadata": {},
     "output_type": "execute_result"
    }
   ],
   "source": [
    "df.dtypes #compruebo de que tipo es cada columna, para poder jugar con ellas correctamente"
   ]
  },
  {
   "cell_type": "code",
   "execution_count": 4,
   "id": "c1e016b7-8b7a-4e0d-b101-7340ccd92827",
   "metadata": {
    "editable": true,
    "scrolled": true,
    "slideshow": {
     "slide_type": ""
    },
    "tags": []
   },
   "outputs": [
    {
     "name": "stdout",
     "output_type": "stream",
     "text": [
      "                        Valores únicos  Valores nulos  Porcentaje nulos (%)\n",
      "enrollee_id                      19158              0                  0.00\n",
      "city                               123              0                  0.00\n",
      "city_development_index              93              0                  0.00\n",
      "gender                               3           4508                 23.53\n",
      "relevent_experience                  2              0                  0.00\n",
      "enrolled_university                  3            386                  2.01\n",
      "education_level                      5            460                  2.40\n",
      "major_discipline                     6           2813                 14.68\n",
      "experience                          22             65                  0.34\n",
      "company_size                         8           5938                 30.99\n",
      "company_type                         6           6140                 32.05\n",
      "last_new_job                         6            423                  2.21\n",
      "training_hours                     241              0                  0.00\n",
      "target                               2              0                  0.00\n"
     ]
    }
   ],
   "source": [
    "#Descubrir valores únicos y nulos\n",
    "unique_values = df.nunique()\n",
    "missing_values = df.isnull().sum()\n",
    "\n",
    "# Crear resumen combinado\n",
    "summary = pd.DataFrame({\n",
    "    \"Valores únicos\": unique_values,\n",
    "    \"Valores nulos\": missing_values,\n",
    "    \"Porcentaje nulos (%)\": (missing_values / len(df) * 100).round(2)\n",
    "})\n",
    "\n",
    "# Visualizar resumen\n",
    "print(summary)"
   ]
  },
  {
   "cell_type": "code",
   "execution_count": 5,
   "id": "0fb6e036-268b-495b-84a0-e7ddc7f87a20",
   "metadata": {},
   "outputs": [
    {
     "data": {
      "text/plain": [
       "gender\n",
       "Male      13221\n",
       "Female     1238\n",
       "Other       191\n",
       "Name: count, dtype: int64"
      ]
     },
     "execution_count": 5,
     "metadata": {},
     "output_type": "execute_result"
    }
   ],
   "source": [
    "# quiero saber cuales son las opciones en cada columna (actualizo tras categorización NaN)\n",
    "df[\"gender\"].value_counts()"
   ]
  },
  {
   "cell_type": "code",
   "execution_count": 7,
   "id": "9819cb32-705b-4045-8b47-55a1ea9a6ae6",
   "metadata": {},
   "outputs": [
    {
     "data": {
      "text/plain": [
       "relevent_experience\n",
       "Has relevent experience    13792\n",
       "No relevent experience      5366\n",
       "Name: count, dtype: int64"
      ]
     },
     "execution_count": 7,
     "metadata": {},
     "output_type": "execute_result"
    }
   ],
   "source": [
    "df[\"relevent_experience\"].value_counts()"
   ]
  },
  {
   "cell_type": "code",
   "execution_count": 8,
   "id": "7e1a90fa-f55d-4d47-80f5-729143fbb636",
   "metadata": {
    "scrolled": true
   },
   "outputs": [
    {
     "data": {
      "text/plain": [
       "enrolled_university\n",
       "no_enrollment       13817\n",
       "Full time course     3757\n",
       "Part time course     1198\n",
       "Name: count, dtype: int64"
      ]
     },
     "execution_count": 8,
     "metadata": {},
     "output_type": "execute_result"
    }
   ],
   "source": [
    "df[\"enrolled_university\"].value_counts()"
   ]
  },
  {
   "cell_type": "code",
   "execution_count": 9,
   "id": "3319f701-ec02-48eb-a369-c4067302ed1a",
   "metadata": {},
   "outputs": [
    {
     "data": {
      "text/plain": [
       "education_level\n",
       "Graduate          11598\n",
       "Masters            4361\n",
       "High School        2017\n",
       "Phd                 414\n",
       "Primary School      308\n",
       "Name: count, dtype: int64"
      ]
     },
     "execution_count": 9,
     "metadata": {},
     "output_type": "execute_result"
    }
   ],
   "source": [
    "df[\"education_level\"].value_counts()"
   ]
  },
  {
   "cell_type": "code",
   "execution_count": 10,
   "id": "262d3663-a4fe-44f1-9a04-a0b0465446e1",
   "metadata": {},
   "outputs": [
    {
     "data": {
      "text/plain": [
       "major_discipline\n",
       "STEM               14492\n",
       "Humanities           669\n",
       "Other                381\n",
       "Business Degree      327\n",
       "Arts                 253\n",
       "No Major             223\n",
       "Name: count, dtype: int64"
      ]
     },
     "execution_count": 10,
     "metadata": {},
     "output_type": "execute_result"
    }
   ],
   "source": [
    "df[\"major_discipline\"].value_counts() #reduzco a non-stem y stem"
   ]
  },
  {
   "cell_type": "code",
   "execution_count": 10,
   "id": "5c679b96-0f69-41a2-9f69-96c84edfce5b",
   "metadata": {
    "editable": true,
    "slideshow": {
     "slide_type": ""
    },
    "tags": []
   },
   "outputs": [
    {
     "data": {
      "text/plain": [
       "experience\n",
       ">20    3286\n",
       "5      1430\n",
       "4      1403\n",
       "3      1354\n",
       "6      1216\n",
       "2      1127\n",
       "7      1028\n",
       "10      985\n",
       "9       980\n",
       "8       802\n",
       "15      686\n",
       "11      664\n",
       "14      586\n",
       "1       549\n",
       "<1      522\n",
       "16      508\n",
       "12      494\n",
       "13      399\n",
       "17      342\n",
       "19      304\n",
       "18      280\n",
       "20      148\n",
       "Name: count, dtype: int64"
      ]
     },
     "execution_count": 10,
     "metadata": {},
     "output_type": "execute_result"
    }
   ],
   "source": [
    "df[\"experience\"].value_counts() #habrá que editar el <1 a 0"
   ]
  },
  {
   "cell_type": "code",
   "execution_count": 11,
   "id": "1fc2e5b4-4d11-446f-a906-6307e97c8219",
   "metadata": {},
   "outputs": [
    {
     "data": {
      "text/plain": [
       "company_size\n",
       "50-99        3083\n",
       "100-500      2571\n",
       "10000+       2019\n",
       "10/49        1471\n",
       "1000-4999    1328\n",
       "<10          1308\n",
       "500-999       877\n",
       "5000-9999     563\n",
       "Name: count, dtype: int64"
      ]
     },
     "execution_count": 11,
     "metadata": {},
     "output_type": "execute_result"
    }
   ],
   "source": [
    "df[\"company_size\"].value_counts() #habrá que editarlos a numero medio del rango"
   ]
  },
  {
   "cell_type": "code",
   "execution_count": 12,
   "id": "75393161-e085-42c8-a2e0-91606647c4a7",
   "metadata": {},
   "outputs": [
    {
     "data": {
      "text/plain": [
       "company_type\n",
       "Pvt Ltd                9817\n",
       "Funded Startup         1001\n",
       "Public Sector           955\n",
       "Early Stage Startup     603\n",
       "NGO                     521\n",
       "Other                   121\n",
       "Name: count, dtype: int64"
      ]
     },
     "execution_count": 12,
     "metadata": {},
     "output_type": "execute_result"
    }
   ],
   "source": [
    "df[\"company_type\"].value_counts()"
   ]
  },
  {
   "cell_type": "code",
   "execution_count": 13,
   "id": "4035cdc1-0611-4975-87e6-42e7d21a9f29",
   "metadata": {},
   "outputs": [
    {
     "data": {
      "text/plain": [
       "last_new_job\n",
       "1        8040\n",
       ">4       3290\n",
       "2        2900\n",
       "never    2452\n",
       "4        1029\n",
       "3        1024\n",
       "Name: count, dtype: int64"
      ]
     },
     "execution_count": 13,
     "metadata": {},
     "output_type": "execute_result"
    }
   ],
   "source": [
    "df[\"last_new_job\"].value_counts() #hay que cambiarlo"
   ]
  },
  {
   "cell_type": "markdown",
   "id": "2de2438f-5268-402f-a56f-b69a1e5c323b",
   "metadata": {},
   "source": [
    "# 2 Limpiar el Dataset"
   ]
  },
  {
   "cell_type": "code",
   "execution_count": 3,
   "id": "2100d55e-0a51-4d5d-9a12-be6b036faf0a",
   "metadata": {},
   "outputs": [],
   "source": [
    "#Quiero ver cuantas filas hay con valores nulos excesivos\n",
    "umbral = 0.4  # 40%\n",
    "filas_con_muchos_nulos = df.isnull().mean(axis=1) > umbral\n",
    "df[filas_con_muchos_nulos]  # ← Esto muestra cuáles son esas filas\n",
    "\n",
    "#voy a eliminar 6 filas que tienen 40% de valores nulos, y no me van a aportar nada en mi estudio\n",
    "df = df.loc[~filas_con_muchos_nulos]"
   ]
  },
  {
   "cell_type": "code",
   "execution_count": 4,
   "id": "70f416d6-5777-4529-ac33-ec8a2e984d3e",
   "metadata": {},
   "outputs": [],
   "source": [
    "#Voy a eliminar los nulos de enrolled university, education_level, experience y last_new_job porque el porcentaje es mínimo\n",
    "df = df.dropna(subset=[\"last_new_job\"])\n",
    "df = df.dropna(subset=[\"experience\"])\n",
    "df = df.dropna(subset=[\"education_level\"])\n",
    "df = df.dropna(subset=[\"enrolled_university\"])"
   ]
  },
  {
   "cell_type": "code",
   "execution_count": 5,
   "id": "dc9e9466-63ba-4563-969a-98c1d32fb789",
   "metadata": {
    "editable": true,
    "scrolled": true,
    "slideshow": {
     "slide_type": ""
    },
    "tags": []
   },
   "outputs": [],
   "source": [
    "#Ahora me queda gender, major_discipline, company_size y company_type con nulos, rellenar con el modo puede introducir sesgo. La ausencia también es información.\n",
    "df[\"gender\"] = df[\"gender\"].fillna(\"Unknown\")\n",
    "df[\"major_discipline\"] = df[\"major_discipline\"].fillna(\"No Info\")\n",
    "df[\"company_size\"] = df[\"company_size\"].fillna(\"Unknown\")\n",
    "df[\"company_type\"] = df[\"company_type\"].fillna(\"Unknown\")\n",
    "\n",
    "#Ya tengo 0 nulos"
   ]
  },
  {
   "cell_type": "code",
   "execution_count": 6,
   "id": "d65a864e-8929-46a4-8a2f-b4778cca5544",
   "metadata": {},
   "outputs": [
    {
     "name": "stdout",
     "output_type": "stream",
     "text": [
      "major_discipline\n",
      "STEM        13993\n",
      "No Info      2222\n",
      "non-STEM     1799\n",
      "Name: count, dtype: int64\n"
     ]
    }
   ],
   "source": [
    "#Ahora vamos a por los valores únicos y su estandarización\n",
    "#Reducimos major_discipline a STEM y No STEM\n",
    "# Primero, creamos un mapeo\n",
    "df['major_discipline'] = df['major_discipline'].replace({\n",
    "    'STEM': 'STEM',\n",
    "    'Humanities': 'non-STEM',\n",
    "    'Other': 'non-STEM',\n",
    "    'Business Degree': 'non-STEM',\n",
    "    'No Major': 'non-STEM',\n",
    "    'Arts': 'non-STEM'\n",
    "})\n",
    "\n",
    "# Confirmamos los nuevos valores\n",
    "print(df['major_discipline'].value_counts())\n"
   ]
  },
  {
   "cell_type": "code",
   "execution_count": 7,
   "id": "4f7b7268-2d24-46a4-a8a0-93158274bd0f",
   "metadata": {},
   "outputs": [],
   "source": [
    "#elimino >20 y <1 y lo cambio a 21 y 0\n",
    "def experience(val):\n",
    "    if val == '>20':\n",
    "        return 21\n",
    "    elif val == '<1':\n",
    "        return 0\n",
    "    else:\n",
    "        return int(val)\n",
    "        \n",
    "df['experience'] = df['experience'].apply(experience)"
   ]
  },
  {
   "cell_type": "code",
   "execution_count": 8,
   "id": "08528e74-595e-4ab0-bb88-f7c593a80ae4",
   "metadata": {},
   "outputs": [
    {
     "data": {
      "text/plain": [
       "company_size\n",
       "0        5310\n",
       "75       2950\n",
       "300      2483\n",
       "10000    1964\n",
       "30       1394\n",
       "3000     1282\n",
       "5        1242\n",
       "750       847\n",
       "7500      542\n",
       "Name: count, dtype: int64"
      ]
     },
     "execution_count": 8,
     "metadata": {},
     "output_type": "execute_result"
    }
   ],
   "source": [
    "#cambio valores a un punto medio del rango\n",
    "def company_size(val):\n",
    "    if val == '<10':\n",
    "        return 5\n",
    "    elif val == '10/49':\n",
    "        return 30\n",
    "    elif val == '50-99':\n",
    "        return 75\n",
    "    elif val == '100-500':\n",
    "        return 300\n",
    "    elif val == '500-999':\n",
    "        return 750\n",
    "    elif val == '1000-4999':\n",
    "        return 3000\n",
    "    elif val == '5000-9999':\n",
    "        return 7500\n",
    "    elif val == '10000+':\n",
    "        return 10000\n",
    "    else:\n",
    "        return 0 \n",
    "\n",
    "df['company_size'] = df['company_size'].apply(company_size)\n",
    "# Verificar\n",
    "df['company_size'].value_counts()"
   ]
  },
  {
   "cell_type": "code",
   "execution_count": 9,
   "id": "e8451a96-8961-403e-b298-5db9d0e2a571",
   "metadata": {
    "editable": true,
    "slideshow": {
     "slide_type": ""
    },
    "tags": []
   },
   "outputs": [
    {
     "data": {
      "text/plain": [
       "last_new_job\n",
       "1    7789\n",
       "5    3210\n",
       "2    2827\n",
       "0    2187\n",
       "4    1010\n",
       "3     991\n",
       "Name: count, dtype: int64"
      ]
     },
     "execution_count": 9,
     "metadata": {},
     "output_type": "execute_result"
    }
   ],
   "source": [
    "#ultima columna por limpiar\n",
    "def last_new_job(val):\n",
    "    if val == 'never':\n",
    "        return 0\n",
    "    elif val == '>4':\n",
    "        return 5\n",
    "    else:\n",
    "        return int(val)\n",
    "\n",
    "df['last_new_job'] = df['last_new_job'].apply(last_new_job)\n",
    "\n",
    "# Verificar\n",
    "df['last_new_job'].value_counts()"
   ]
  },
  {
   "cell_type": "code",
   "execution_count": 10,
   "id": "70acecf8-3c1a-4368-ac89-0345637d6696",
   "metadata": {},
   "outputs": [],
   "source": [
    "df = df.drop(columns=['city']) #elimino columna tras darme problema en VIF, multicolinealidad"
   ]
  },
  {
   "cell_type": "code",
   "execution_count": 22,
   "id": "8f41a3b8-3974-4555-ace5-09b207116dc7",
   "metadata": {},
   "outputs": [
    {
     "name": "stdout",
     "output_type": "stream",
     "text": [
      "                        Valores únicos  Valores nulos  Porcentaje nulos (%)\n",
      "enrollee_id                      18014              0                   0.0\n",
      "city_development_index              93              0                   0.0\n",
      "gender                               4              0                   0.0\n",
      "relevent_experience                  2              0                   0.0\n",
      "enrolled_university                  3              0                   0.0\n",
      "education_level                      5              0                   0.0\n",
      "major_discipline                     3              0                   0.0\n",
      "experience                          22              0                   0.0\n",
      "company_size                         9              0                   0.0\n",
      "company_type                         7              0                   0.0\n",
      "last_new_job                         6              0                   0.0\n",
      "training_hours                     241              0                   0.0\n",
      "target                               2              0                   0.0\n"
     ]
    }
   ],
   "source": [
    "#Descubrir valores únicos y nulos\n",
    "unique_values = df.nunique()\n",
    "missing_values = df.isnull().sum()\n",
    "\n",
    "# Crear resumen combinado\n",
    "summary = pd.DataFrame({\n",
    "    \"Valores únicos\": unique_values,\n",
    "    \"Valores nulos\": missing_values,\n",
    "    \"Porcentaje nulos (%)\": (missing_values / len(df) * 100).round(2)\n",
    "})\n",
    "\n",
    "# Visualizar resumen\n",
    "print(summary)"
   ]
  },
  {
   "cell_type": "markdown",
   "id": "d766172b-9db3-4ffc-8cbc-92eba66f900e",
   "metadata": {},
   "source": [
    "# Analisis Exploratorio"
   ]
  },
  {
   "cell_type": "code",
   "execution_count": 22,
   "id": "dedc1df3-da5e-406d-983f-b214a1fa78ad",
   "metadata": {},
   "outputs": [
    {
     "data": {
      "text/html": [
       "<div>\n",
       "<style scoped>\n",
       "    .dataframe tbody tr th:only-of-type {\n",
       "        vertical-align: middle;\n",
       "    }\n",
       "\n",
       "    .dataframe tbody tr th {\n",
       "        vertical-align: top;\n",
       "    }\n",
       "\n",
       "    .dataframe thead th {\n",
       "        text-align: right;\n",
       "    }\n",
       "</style>\n",
       "<table border=\"1\" class=\"dataframe\">\n",
       "  <thead>\n",
       "    <tr style=\"text-align: right;\">\n",
       "      <th></th>\n",
       "      <th>enrollee_id</th>\n",
       "      <th>city_development_index</th>\n",
       "      <th>experience</th>\n",
       "      <th>company_size</th>\n",
       "      <th>last_new_job</th>\n",
       "      <th>training_hours</th>\n",
       "      <th>target</th>\n",
       "    </tr>\n",
       "  </thead>\n",
       "  <tbody>\n",
       "    <tr>\n",
       "      <th>count</th>\n",
       "      <td>18014.000000</td>\n",
       "      <td>18014.000000</td>\n",
       "      <td>18014.000000</td>\n",
       "      <td>18014.000000</td>\n",
       "      <td>18014.000000</td>\n",
       "      <td>18014.000000</td>\n",
       "      <td>18014.000000</td>\n",
       "    </tr>\n",
       "    <tr>\n",
       "      <th>mean</th>\n",
       "      <td>16903.699734</td>\n",
       "      <td>0.831728</td>\n",
       "      <td>10.282447</td>\n",
       "      <td>1620.985345</td>\n",
       "      <td>2.026535</td>\n",
       "      <td>65.347896</td>\n",
       "      <td>0.245420</td>\n",
       "    </tr>\n",
       "    <tr>\n",
       "      <th>std</th>\n",
       "      <td>9665.557267</td>\n",
       "      <td>0.122115</td>\n",
       "      <td>6.760575</td>\n",
       "      <td>3263.190229</td>\n",
       "      <td>1.673468</td>\n",
       "      <td>60.059220</td>\n",
       "      <td>0.430348</td>\n",
       "    </tr>\n",
       "    <tr>\n",
       "      <th>min</th>\n",
       "      <td>1.000000</td>\n",
       "      <td>0.448000</td>\n",
       "      <td>0.000000</td>\n",
       "      <td>0.000000</td>\n",
       "      <td>0.000000</td>\n",
       "      <td>1.000000</td>\n",
       "      <td>0.000000</td>\n",
       "    </tr>\n",
       "    <tr>\n",
       "      <th>25%</th>\n",
       "      <td>8528.750000</td>\n",
       "      <td>0.745000</td>\n",
       "      <td>5.000000</td>\n",
       "      <td>0.000000</td>\n",
       "      <td>1.000000</td>\n",
       "      <td>23.000000</td>\n",
       "      <td>0.000000</td>\n",
       "    </tr>\n",
       "    <tr>\n",
       "      <th>50%</th>\n",
       "      <td>17012.500000</td>\n",
       "      <td>0.910000</td>\n",
       "      <td>9.000000</td>\n",
       "      <td>75.000000</td>\n",
       "      <td>1.000000</td>\n",
       "      <td>47.000000</td>\n",
       "      <td>0.000000</td>\n",
       "    </tr>\n",
       "    <tr>\n",
       "      <th>75%</th>\n",
       "      <td>25326.250000</td>\n",
       "      <td>0.920000</td>\n",
       "      <td>16.000000</td>\n",
       "      <td>750.000000</td>\n",
       "      <td>3.000000</td>\n",
       "      <td>88.000000</td>\n",
       "      <td>0.000000</td>\n",
       "    </tr>\n",
       "    <tr>\n",
       "      <th>max</th>\n",
       "      <td>33380.000000</td>\n",
       "      <td>0.949000</td>\n",
       "      <td>21.000000</td>\n",
       "      <td>10000.000000</td>\n",
       "      <td>5.000000</td>\n",
       "      <td>336.000000</td>\n",
       "      <td>1.000000</td>\n",
       "    </tr>\n",
       "  </tbody>\n",
       "</table>\n",
       "</div>"
      ],
      "text/plain": [
       "        enrollee_id  city_development_index    experience  company_size  \\\n",
       "count  18014.000000            18014.000000  18014.000000  18014.000000   \n",
       "mean   16903.699734                0.831728     10.282447   1620.985345   \n",
       "std     9665.557267                0.122115      6.760575   3263.190229   \n",
       "min        1.000000                0.448000      0.000000      0.000000   \n",
       "25%     8528.750000                0.745000      5.000000      0.000000   \n",
       "50%    17012.500000                0.910000      9.000000     75.000000   \n",
       "75%    25326.250000                0.920000     16.000000    750.000000   \n",
       "max    33380.000000                0.949000     21.000000  10000.000000   \n",
       "\n",
       "       last_new_job  training_hours        target  \n",
       "count  18014.000000    18014.000000  18014.000000  \n",
       "mean       2.026535       65.347896      0.245420  \n",
       "std        1.673468       60.059220      0.430348  \n",
       "min        0.000000        1.000000      0.000000  \n",
       "25%        1.000000       23.000000      0.000000  \n",
       "50%        1.000000       47.000000      0.000000  \n",
       "75%        3.000000       88.000000      0.000000  \n",
       "max        5.000000      336.000000      1.000000  "
      ]
     },
     "execution_count": 22,
     "metadata": {},
     "output_type": "execute_result"
    }
   ],
   "source": [
    "df.describe()"
   ]
  },
  {
   "cell_type": "code",
   "execution_count": 23,
   "id": "1436dcc4-9b28-4891-8787-a351e74d2403",
   "metadata": {},
   "outputs": [
    {
     "data": {
      "text/plain": [
       "<function matplotlib.pyplot.show(close=None, block=None)>"
      ]
     },
     "execution_count": 23,
     "metadata": {},
     "output_type": "execute_result"
    },
    {
     "data": {
      "image/png": "[encoded data removed]",
      "text/plain": [
       "<Figure size 640x480 with 1 Axes>"
      ]
     },
     "metadata": {},
     "output_type": "display_data"
    }
   ],
   "source": [
    "#distribucion marcharse del trabajo\n",
    "sns.countplot(data=df, x=\"target\")\n",
    "plt.title(\"Distribución de intención de marcharse\")\n",
    "plt.show\n",
    "\n",
    "#1 = los que se quieren ir"
   ]
  },
  {
   "cell_type": "code",
   "execution_count": 24,
   "id": "e9a7e7c4-a319-49d4-b80f-f99408fe7cc2",
   "metadata": {},
   "outputs": [
    {
     "data": {
      "image/png": "[encoded data removed]",
      "text/plain": [
       "<Figure size 800x500 with 1 Axes>"
      ]
     },
     "metadata": {},
     "output_type": "display_data"
    }
   ],
   "source": [
    "plt.figure(figsize=(8,5))\n",
    "sns.countplot(data=df, x=\"education_level\", hue=\"target\")\n",
    "plt.title(\"Intención de marcharse por nivel educativo\")\n",
    "plt.xticks(rotation=45)\n",
    "plt.show()"
   ]
  },
  {
   "cell_type": "code",
   "execution_count": 25,
   "id": "10f92444-7b1f-46bf-a077-320e4d5e7e0f",
   "metadata": {},
   "outputs": [
    {
     "data": {
      "image/png": "[encoded data removed]",
      "text/plain": [
       "<Figure size 800x500 with 1 Axes>"
      ]
     },
     "metadata": {},
     "output_type": "display_data"
    }
   ],
   "source": [
    "# Company size vs target\n",
    "plt.figure(figsize=(8,5))\n",
    "sns.countplot(data=df, x=\"company_size\", hue=\"target\")\n",
    "plt.title(\"Intención de marcharse por tamaño de empresa\")\n",
    "plt.xticks(rotation=45)\n",
    "plt.show()"
   ]
  },
  {
   "cell_type": "code",
   "execution_count": 26,
   "id": "a49fc577-ff04-4a34-9110-43cbd9000e95",
   "metadata": {},
   "outputs": [
    {
     "data": {
      "image/png": "[encoded data removed]",
      "text/plain": [
       "<Figure size 800x500 with 1 Axes>"
      ]
     },
     "metadata": {},
     "output_type": "display_data"
    }
   ],
   "source": [
    "# Company type vs target\n",
    "plt.figure(figsize=(8,5))\n",
    "sns.countplot(data=df, x=\"company_type\", hue=\"target\")\n",
    "plt.title(\"Intención de marcharse por tipo de empresa\")\n",
    "plt.xticks(rotation=45)\n",
    "plt.show()"
   ]
  },
  {
   "cell_type": "code",
   "execution_count": 27,
   "id": "75199969-72ad-4215-902b-5b5c6d2cfed3",
   "metadata": {},
   "outputs": [
    {
     "data": {
      "image/png": "[encoded data removed]",
      "text/plain": [
       "<Figure size 600x500 with 1 Axes>"
      ]
     },
     "metadata": {},
     "output_type": "display_data"
    }
   ],
   "source": [
    "# Experiencia vs target (Boxplot)\n",
    "plt.figure(figsize=(6,5))\n",
    "sns.boxplot(data=df, x=\"target\", y=\"experience\")\n",
    "plt.title(\"Experiencia vs intención de marcharse\")\n",
    "plt.xlabel(\"Quiere cambiar (1) o no (0)\")\n",
    "plt.ylabel(\"Años de experiencia\")\n",
    "plt.show()"
   ]
  },
  {
   "cell_type": "code",
   "execution_count": 28,
   "id": "dbb4d3b6-b9e8-4faf-b5d4-aba47e6faf59",
   "metadata": {},
   "outputs": [
    {
     "data": {
      "image/png": "[encoded data removed]",
      "text/plain": [
       "<Figure size 600x500 with 1 Axes>"
      ]
     },
     "metadata": {},
     "output_type": "display_data"
    }
   ],
   "source": [
    "# Training hours vs target (Boxplot)\n",
    "plt.figure(figsize=(6,5))\n",
    "sns.boxplot(data=df, x=\"target\", y=\"training_hours\")\n",
    "plt.title(\"Horas de formación vs intención de marcharse\")\n",
    "plt.xlabel(\"Quiere cambiar (1) o no (0)\")\n",
    "plt.ylabel(\"Horas de formación\")\n",
    "plt.show()"
   ]
  },
  {
   "cell_type": "code",
   "execution_count": 29,
   "id": "4be77a52-5011-4d81-a6ea-c8872466bc8e",
   "metadata": {},
   "outputs": [
    {
     "data": {
      "image/png": "[encoded data removed]",
      "text/plain": [
       "<Figure size 600x500 with 1 Axes>"
      ]
     },
     "metadata": {},
     "output_type": "display_data"
    }
   ],
   "source": [
    "# Género vs target\n",
    "plt.figure(figsize=(6,5))\n",
    "sns.countplot(data=df, x=\"gender\", hue=\"target\")\n",
    "plt.title(\"Intención de marcharse por género\")\n",
    "plt.show()\n"
   ]
  },
  {
   "cell_type": "code",
   "execution_count": 30,
   "id": "587af4d9-ea4e-4dc8-bce9-0ff690f93f05",
   "metadata": {},
   "outputs": [
    {
     "data": {
      "image/png": "[encoded data removed]",
      "text/plain": [
       "<Figure size 1000x800 with 2 Axes>"
      ]
     },
     "metadata": {},
     "output_type": "display_data"
    },
    {
     "data": {
      "text/plain": [
       "'\\nmayor relacion entre target y:\\ncity_development_index (negativa, a más desarrollo, menos probabilidad)\\nexperience (más experiencia, menos probabilidad)\\nlast_new_job (si cambió hace poco, menos probabilidad)\\ntraining_hours (no afecta)\\ncompany_size (no afecta)\\n'"
      ]
     },
     "execution_count": 30,
     "metadata": {},
     "output_type": "execute_result"
    }
   ],
   "source": [
    "plt.figure(figsize=(10, 8))\n",
    "sns.heatmap(df.corr(numeric_only=True), annot=True, cmap='coolwarm')\n",
    "plt.title('Mapa de correlaciones')\n",
    "plt.show()\n",
    "\n",
    "'''\n",
    "mayor relacion entre target y:\n",
    "city_development_index (negativa, a más desarrollo, menos probabilidad)\n",
    "experience (más experiencia, menos probabilidad)\n",
    "last_new_job (si cambió hace poco, menos probabilidad)\n",
    "training_hours (no afecta)\n",
    "company_size (no afecta)\n",
    "'''\n"
   ]
  },
  {
   "cell_type": "markdown",
   "id": "f00d4a39-1097-465f-a4fe-f47eb9f6e48d",
   "metadata": {},
   "source": [
    "# Análisis Predictivo"
   ]
  },
  {
   "cell_type": "code",
   "execution_count": 11,
   "id": "77c3db82-f3ca-49b1-af5f-63017e6f9f75",
   "metadata": {},
   "outputs": [],
   "source": [
    "# Eliminamos columnas que no sirven o irrelevantes\n",
    "X = df.drop(['target', 'enrollee_id'], axis=1)\n",
    "y = df['target']"
   ]
  },
  {
   "cell_type": "code",
   "execution_count": 12,
   "id": "15b0a1f9-032c-4416-8e53-c4fcccc32772",
   "metadata": {},
   "outputs": [
    {
     "name": "stdout",
     "output_type": "stream",
     "text": [
      "Index(['gender', 'relevent_experience', 'enrolled_university',\n",
      "       'education_level', 'major_discipline', 'company_type'],\n",
      "      dtype='object')\n"
     ]
    }
   ],
   "source": [
    "categorical_cols = X.select_dtypes(include='object').columns\n",
    "print(categorical_cols)"
   ]
  },
  {
   "cell_type": "code",
   "execution_count": 13,
   "id": "19e97361-8d51-4661-9a4a-b5f39be9d2be",
   "metadata": {},
   "outputs": [],
   "source": [
    "# Seleccionar solo columnas categóricas\n",
    "categorical_cols = X.select_dtypes(include=['object']).columns\n",
    "\n",
    "# One-Hot Encoding (crea columnas dummies)\n",
    "X_encoded = pd.get_dummies(X, columns=categorical_cols, drop_first=True)\n"
   ]
  },
  {
   "cell_type": "code",
   "execution_count": 14,
   "id": "82f718ab-1d57-47ba-80de-c5e84ffa5036",
   "metadata": {},
   "outputs": [],
   "source": [
    "# Convertir todos los bool a int (0 y 1)\n",
    "X_encoded = X_encoded.astype({col: int for col in X_encoded.select_dtypes('bool').columns})"
   ]
  },
  {
   "cell_type": "code",
   "execution_count": 15,
   "id": "8e0e9a11-2963-4c46-b895-61637eca0cb5",
   "metadata": {},
   "outputs": [
    {
     "data": {
      "text/html": [
       "<div>\n",
       "<style scoped>\n",
       "    .dataframe tbody tr th:only-of-type {\n",
       "        vertical-align: middle;\n",
       "    }\n",
       "\n",
       "    .dataframe tbody tr th {\n",
       "        vertical-align: top;\n",
       "    }\n",
       "\n",
       "    .dataframe thead th {\n",
       "        text-align: right;\n",
       "    }\n",
       "</style>\n",
       "<table border=\"1\" class=\"dataframe\">\n",
       "  <thead>\n",
       "    <tr style=\"text-align: right;\">\n",
       "      <th></th>\n",
       "      <th>feature</th>\n",
       "      <th>VIF</th>\n",
       "    </tr>\n",
       "  </thead>\n",
       "  <tbody>\n",
       "    <tr>\n",
       "      <th>0</th>\n",
       "      <td>city_development_index</td>\n",
       "      <td>53.332471</td>\n",
       "    </tr>\n",
       "    <tr>\n",
       "      <th>1</th>\n",
       "      <td>experience</td>\n",
       "      <td>5.406166</td>\n",
       "    </tr>\n",
       "    <tr>\n",
       "      <th>5</th>\n",
       "      <td>gender_Male</td>\n",
       "      <td>11.616568</td>\n",
       "    </tr>\n",
       "    <tr>\n",
       "      <th>10</th>\n",
       "      <td>enrolled_university_no_enrollment</td>\n",
       "      <td>6.429566</td>\n",
       "    </tr>\n",
       "    <tr>\n",
       "      <th>11</th>\n",
       "      <td>education_level_High School</td>\n",
       "      <td>10.668443</td>\n",
       "    </tr>\n",
       "    <tr>\n",
       "      <th>15</th>\n",
       "      <td>major_discipline_STEM</td>\n",
       "      <td>67.924522</td>\n",
       "    </tr>\n",
       "    <tr>\n",
       "      <th>16</th>\n",
       "      <td>major_discipline_non-STEM</td>\n",
       "      <td>10.087794</td>\n",
       "    </tr>\n",
       "    <tr>\n",
       "      <th>21</th>\n",
       "      <td>company_type_Pvt Ltd</td>\n",
       "      <td>17.780828</td>\n",
       "    </tr>\n",
       "    <tr>\n",
       "      <th>22</th>\n",
       "      <td>company_type_Unknown</td>\n",
       "      <td>10.699595</td>\n",
       "    </tr>\n",
       "  </tbody>\n",
       "</table>\n",
       "</div>"
      ],
      "text/plain": [
       "                              feature        VIF\n",
       "0              city_development_index  53.332471\n",
       "1                          experience   5.406166\n",
       "5                         gender_Male  11.616568\n",
       "10  enrolled_university_no_enrollment   6.429566\n",
       "11        education_level_High School  10.668443\n",
       "15              major_discipline_STEM  67.924522\n",
       "16          major_discipline_non-STEM  10.087794\n",
       "21               company_type_Pvt Ltd  17.780828\n",
       "22               company_type_Unknown  10.699595"
      ]
     },
     "execution_count": 15,
     "metadata": {},
     "output_type": "execute_result"
    }
   ],
   "source": [
    "from statsmodels.stats.outliers_influence import variance_inflation_factor\n",
    "vif_data = pd.DataFrame()\n",
    "vif_data[\"feature\"] = X_encoded.columns\n",
    "vif_data[\"VIF\"] = [variance_inflation_factor(X_encoded.values, i)\n",
    "                   for i in range(X_encoded.shape[1])]\n",
    "\n",
    "vif_data[vif_data[\"VIF\"] > 5]\n",
    "\n",
    "#decido eliminar variable city, no la voy a utilizar y no aporta nada"
   ]
  },
  {
   "cell_type": "code",
   "execution_count": 16,
   "id": "2a073587-241f-4949-80d5-6fac9ddfba3a",
   "metadata": {},
   "outputs": [],
   "source": [
    "X_train, X_test, y_train, y_test = train_test_split(\n",
    "    X_encoded, y,\n",
    "    train_size = 0.75,\n",
    "    test_size = 0.25\n",
    ")"
   ]
  },
  {
   "cell_type": "markdown",
   "id": "5eda9076-46e6-4de2-be74-0acd855af0a0",
   "metadata": {},
   "source": [
    "### Modelo Random-Forest"
   ]
  },
  {
   "cell_type": "code",
   "execution_count": 56,
   "id": "21a3175a-a404-48ec-8a6c-3a765727357e",
   "metadata": {},
   "outputs": [],
   "source": [
    "clf = RandomForestClassifier(max_depth=10)\n",
    "clf.fit(X_train, y_train)\n",
    "\n",
    "y_pred = clf.predict(X_test)"
   ]
  },
  {
   "cell_type": "code",
   "execution_count": 57,
   "id": "4ad0aac6-e5ce-464c-9346-0bab2b5d8d9a",
   "metadata": {},
   "outputs": [
    {
     "data": {
      "text/plain": [
       "0.7921847246891652"
      ]
     },
     "execution_count": 57,
     "metadata": {},
     "output_type": "execute_result"
    }
   ],
   "source": [
    "accuracy_score(y_test, y_pred)"
   ]
  },
  {
   "cell_type": "code",
   "execution_count": 59,
   "id": "aa261183-ede1-4b5a-81ec-ad686431befc",
   "metadata": {},
   "outputs": [
    {
     "name": "stdout",
     "output_type": "stream",
     "text": [
      "[[3062  363]\n",
      " [ 573  506]]\n",
      "              precision    recall  f1-score   support\n",
      "\n",
      "         0.0       0.84      0.89      0.87      3425\n",
      "         1.0       0.58      0.47      0.52      1079\n",
      "\n",
      "    accuracy                           0.79      4504\n",
      "   macro avg       0.71      0.68      0.69      4504\n",
      "weighted avg       0.78      0.79      0.78      4504\n",
      "\n",
      "ROC AUC: 0.8046479911786393\n"
     ]
    }
   ],
   "source": [
    "from sklearn.metrics import classification_report, confusion_matrix, roc_auc_score\n",
    "\n",
    "print(confusion_matrix(y_test, y_pred))\n",
    "print(classification_report(y_test, y_pred))\n",
    "\n",
    "y_prob = clf.predict_proba(X_test)[:,1]\n",
    "print(\"ROC AUC:\", roc_auc_score(y_test, y_prob))"
   ]
  },
  {
   "cell_type": "markdown",
   "id": "dae0062a-d7c0-476a-9987-e73c53b21353",
   "metadata": {},
   "source": [
    "### Modelo Regresión Logística"
   ]
  },
  {
   "cell_type": "code",
   "execution_count": 17,
   "id": "c47e239a-bae9-4dfe-bb87-ec875d975d6d",
   "metadata": {},
   "outputs": [],
   "source": [
    "from sklearn.preprocessing import StandardScaler\n",
    "scaler = StandardScaler()\n",
    "x_train_scaled = scaler.fit_transform(X_train)\n",
    "x_test_scaled = scaler.transform(X_test)\n"
   ]
  },
  {
   "cell_type": "code",
   "execution_count": 18,
   "id": "4410e93e-ee1f-4172-8537-7157be26a91c",
   "metadata": {},
   "outputs": [
    {
     "name": "stdout",
     "output_type": "stream",
     "text": [
      "[[2424 1017]\n",
      " [ 281  782]]\n",
      "              precision    recall  f1-score   support\n",
      "\n",
      "         0.0       0.90      0.70      0.79      3441\n",
      "         1.0       0.43      0.74      0.55      1063\n",
      "\n",
      "    accuracy                           0.71      4504\n",
      "   macro avg       0.67      0.72      0.67      4504\n",
      "weighted avg       0.79      0.71      0.73      4504\n",
      "\n",
      "ROC AUC: 0.7693459398766959\n"
     ]
    }
   ],
   "source": [
    "#regresion logistica\n",
    "clf_log = LogisticRegression(\n",
    "    max_iter=1000,\n",
    "    class_weight='balanced', #por tener la muestra muy desigual\n",
    "    random_state=42\n",
    ")\n",
    "\n",
    "clf_log.fit(x_train_scaled, y_train)\n",
    "\n",
    "# -------------------------------\n",
    "# Evaluación\n",
    "# -------------------------------\n",
    "y_pred = clf_log.predict(x_test_scaled)\n",
    "y_prob = clf_log.predict_proba(x_test_scaled)[:, 1]\n",
    "\n",
    "print(confusion_matrix(y_test, y_pred))\n",
    "print(classification_report(y_test, y_pred))\n",
    "print(\"ROC AUC:\", roc_auc_score(y_test, y_prob))"
   ]
  },
  {
   "cell_type": "markdown",
   "id": "ec36cbb8-328e-4c1c-af54-d916760e04af",
   "metadata": {},
   "source": [
    "## Reducción de variables y nuevo modelo"
   ]
  },
  {
   "cell_type": "markdown",
   "id": "126e315e-b25e-40f0-8f85-351fab957041",
   "metadata": {},
   "source": [
    "## Se reeduce capacidad predictiva del modelo\n",
    "      precision    recall  f1-score   support\n",
    "\n",
    "         0.0       0.87      0.72      0.79      3402\n",
    "         1.0       0.44      0.66      0.53      1102\n",
    "\n",
    "    accuracy                           0.71      4504\n",
    "   macro avg       0.65      0.69      0.66      4504\n",
    "weighted avg       0.76      0.71      0.72      4504\n",
    "\n",
    "ROC AUC: 0.7250453720508168"
   ]
  },
  {
   "cell_type": "code",
   "execution_count": 88,
   "id": "3d6e5329-91b5-4f64-9892-2031c9f88c94",
   "metadata": {},
   "outputs": [],
   "source": [
    "df_v2 = df.copy()"
   ]
  },
  {
   "cell_type": "code",
   "execution_count": 98,
   "id": "7946b6b3-50f5-4d1e-a981-d4aa2690fade",
   "metadata": {
    "scrolled": true
   },
   "outputs": [
    {
     "ename": "KeyError",
     "evalue": "\"['major_discipline', 'company_type', 'gender'] not found in axis\"",
     "output_type": "error",
     "traceback": [
      "\u001b[1;31m---------------------------------------------------------------------------\u001b[0m",
      "\u001b[1;31mKeyError\u001b[0m                                  Traceback (most recent call last)",
      "Cell \u001b[1;32mIn[98], line 1\u001b[0m\n\u001b[1;32m----> 1\u001b[0m df_v2 \u001b[38;5;241m=\u001b[39m df_v2\u001b[38;5;241m.\u001b[39mdrop(columns\u001b[38;5;241m=\u001b[39m[\u001b[38;5;124m'\u001b[39m\u001b[38;5;124mmajor_discipline\u001b[39m\u001b[38;5;124m'\u001b[39m, \u001b[38;5;124m'\u001b[39m\u001b[38;5;124mcompany_type\u001b[39m\u001b[38;5;124m'\u001b[39m,\u001b[38;5;124m'\u001b[39m\u001b[38;5;124mgender\u001b[39m\u001b[38;5;124m'\u001b[39m])\n",
      "File \u001b[1;32m~\\anaconda3\\Lib\\site-packages\\pandas\\core\\frame.py:5581\u001b[0m, in \u001b[0;36mDataFrame.drop\u001b[1;34m(self, labels, axis, index, columns, level, inplace, errors)\u001b[0m\n\u001b[0;32m   5433\u001b[0m \u001b[38;5;28;01mdef\u001b[39;00m \u001b[38;5;21mdrop\u001b[39m(\n\u001b[0;32m   5434\u001b[0m     \u001b[38;5;28mself\u001b[39m,\n\u001b[0;32m   5435\u001b[0m     labels: IndexLabel \u001b[38;5;241m|\u001b[39m \u001b[38;5;28;01mNone\u001b[39;00m \u001b[38;5;241m=\u001b[39m \u001b[38;5;28;01mNone\u001b[39;00m,\n\u001b[1;32m   (...)\u001b[0m\n\u001b[0;32m   5442\u001b[0m     errors: IgnoreRaise \u001b[38;5;241m=\u001b[39m \u001b[38;5;124m\"\u001b[39m\u001b[38;5;124mraise\u001b[39m\u001b[38;5;124m\"\u001b[39m,\n\u001b[0;32m   5443\u001b[0m ) \u001b[38;5;241m-\u001b[39m\u001b[38;5;241m>\u001b[39m DataFrame \u001b[38;5;241m|\u001b[39m \u001b[38;5;28;01mNone\u001b[39;00m:\n\u001b[0;32m   5444\u001b[0m \u001b[38;5;250m    \u001b[39m\u001b[38;5;124;03m\"\"\"\u001b[39;00m\n\u001b[0;32m   5445\u001b[0m \u001b[38;5;124;03m    Drop specified labels from rows or columns.\u001b[39;00m\n\u001b[0;32m   5446\u001b[0m \n\u001b[1;32m   (...)\u001b[0m\n\u001b[0;32m   5579\u001b[0m \u001b[38;5;124;03m            weight  1.0     0.8\u001b[39;00m\n\u001b[0;32m   5580\u001b[0m \u001b[38;5;124;03m    \"\"\"\u001b[39;00m\n\u001b[1;32m-> 5581\u001b[0m     \u001b[38;5;28;01mreturn\u001b[39;00m \u001b[38;5;28msuper\u001b[39m()\u001b[38;5;241m.\u001b[39mdrop(\n\u001b[0;32m   5582\u001b[0m         labels\u001b[38;5;241m=\u001b[39mlabels,\n\u001b[0;32m   5583\u001b[0m         axis\u001b[38;5;241m=\u001b[39maxis,\n\u001b[0;32m   5584\u001b[0m         index\u001b[38;5;241m=\u001b[39mindex,\n\u001b[0;32m   5585\u001b[0m         columns\u001b[38;5;241m=\u001b[39mcolumns,\n\u001b[0;32m   5586\u001b[0m         level\u001b[38;5;241m=\u001b[39mlevel,\n\u001b[0;32m   5587\u001b[0m         inplace\u001b[38;5;241m=\u001b[39minplace,\n\u001b[0;32m   5588\u001b[0m         errors\u001b[38;5;241m=\u001b[39merrors,\n\u001b[0;32m   5589\u001b[0m     )\n",
      "File \u001b[1;32m~\\anaconda3\\Lib\\site-packages\\pandas\\core\\generic.py:4788\u001b[0m, in \u001b[0;36mNDFrame.drop\u001b[1;34m(self, labels, axis, index, columns, level, inplace, errors)\u001b[0m\n\u001b[0;32m   4786\u001b[0m \u001b[38;5;28;01mfor\u001b[39;00m axis, labels \u001b[38;5;129;01min\u001b[39;00m axes\u001b[38;5;241m.\u001b[39mitems():\n\u001b[0;32m   4787\u001b[0m     \u001b[38;5;28;01mif\u001b[39;00m labels \u001b[38;5;129;01mis\u001b[39;00m \u001b[38;5;129;01mnot\u001b[39;00m \u001b[38;5;28;01mNone\u001b[39;00m:\n\u001b[1;32m-> 4788\u001b[0m         obj \u001b[38;5;241m=\u001b[39m obj\u001b[38;5;241m.\u001b[39m_drop_axis(labels, axis, level\u001b[38;5;241m=\u001b[39mlevel, errors\u001b[38;5;241m=\u001b[39merrors)\n\u001b[0;32m   4790\u001b[0m \u001b[38;5;28;01mif\u001b[39;00m inplace:\n\u001b[0;32m   4791\u001b[0m     \u001b[38;5;28mself\u001b[39m\u001b[38;5;241m.\u001b[39m_update_inplace(obj)\n",
      "File \u001b[1;32m~\\anaconda3\\Lib\\site-packages\\pandas\\core\\generic.py:4830\u001b[0m, in \u001b[0;36mNDFrame._drop_axis\u001b[1;34m(self, labels, axis, level, errors, only_slice)\u001b[0m\n\u001b[0;32m   4828\u001b[0m         new_axis \u001b[38;5;241m=\u001b[39m axis\u001b[38;5;241m.\u001b[39mdrop(labels, level\u001b[38;5;241m=\u001b[39mlevel, errors\u001b[38;5;241m=\u001b[39merrors)\n\u001b[0;32m   4829\u001b[0m     \u001b[38;5;28;01melse\u001b[39;00m:\n\u001b[1;32m-> 4830\u001b[0m         new_axis \u001b[38;5;241m=\u001b[39m axis\u001b[38;5;241m.\u001b[39mdrop(labels, errors\u001b[38;5;241m=\u001b[39merrors)\n\u001b[0;32m   4831\u001b[0m     indexer \u001b[38;5;241m=\u001b[39m axis\u001b[38;5;241m.\u001b[39mget_indexer(new_axis)\n\u001b[0;32m   4833\u001b[0m \u001b[38;5;66;03m# Case for non-unique axis\u001b[39;00m\n\u001b[0;32m   4834\u001b[0m \u001b[38;5;28;01melse\u001b[39;00m:\n",
      "File \u001b[1;32m~\\anaconda3\\Lib\\site-packages\\pandas\\core\\indexes\\base.py:7070\u001b[0m, in \u001b[0;36mIndex.drop\u001b[1;34m(self, labels, errors)\u001b[0m\n\u001b[0;32m   7068\u001b[0m \u001b[38;5;28;01mif\u001b[39;00m mask\u001b[38;5;241m.\u001b[39many():\n\u001b[0;32m   7069\u001b[0m     \u001b[38;5;28;01mif\u001b[39;00m errors \u001b[38;5;241m!=\u001b[39m \u001b[38;5;124m\"\u001b[39m\u001b[38;5;124mignore\u001b[39m\u001b[38;5;124m\"\u001b[39m:\n\u001b[1;32m-> 7070\u001b[0m         \u001b[38;5;28;01mraise\u001b[39;00m \u001b[38;5;167;01mKeyError\u001b[39;00m(\u001b[38;5;124mf\u001b[39m\u001b[38;5;124m\"\u001b[39m\u001b[38;5;132;01m{\u001b[39;00mlabels[mask]\u001b[38;5;241m.\u001b[39mtolist()\u001b[38;5;132;01m}\u001b[39;00m\u001b[38;5;124m not found in axis\u001b[39m\u001b[38;5;124m\"\u001b[39m)\n\u001b[0;32m   7071\u001b[0m     indexer \u001b[38;5;241m=\u001b[39m indexer[\u001b[38;5;241m~\u001b[39mmask]\n\u001b[0;32m   7072\u001b[0m \u001b[38;5;28;01mreturn\u001b[39;00m \u001b[38;5;28mself\u001b[39m\u001b[38;5;241m.\u001b[39mdelete(indexer)\n",
      "\u001b[1;31mKeyError\u001b[0m: \"['major_discipline', 'company_type', 'gender'] not found in axis\""
     ]
    }
   ],
   "source": [
    "df_v2 = df_v2.drop(columns=['major_discipline', 'company_type','gender']) #elimino varias columnas tras darme problema en VIF, multicolinealidad, se redujo la capacidad predictiva del modelo"
   ]
  },
  {
   "cell_type": "code",
   "execution_count": 90,
   "id": "1135569b-4ddf-4553-a44f-3cf896dfaec6",
   "metadata": {},
   "outputs": [],
   "source": [
    "X_v2 = df_v2.drop([\"target\",'enrollee_id'], axis=1)\n",
    "y_v2 = df_v2[\"target\"]"
   ]
  },
  {
   "cell_type": "code",
   "execution_count": 91,
   "id": "28c18055-c8b4-4790-bbc3-caff632eda11",
   "metadata": {},
   "outputs": [
    {
     "data": {
      "text/html": [
       "<div>\n",
       "<style scoped>\n",
       "    .dataframe tbody tr th:only-of-type {\n",
       "        vertical-align: middle;\n",
       "    }\n",
       "\n",
       "    .dataframe tbody tr th {\n",
       "        vertical-align: top;\n",
       "    }\n",
       "\n",
       "    .dataframe thead th {\n",
       "        text-align: right;\n",
       "    }\n",
       "</style>\n",
       "<table border=\"1\" class=\"dataframe\">\n",
       "  <thead>\n",
       "    <tr style=\"text-align: right;\">\n",
       "      <th></th>\n",
       "      <th>city_development_index</th>\n",
       "      <th>relevent_experience</th>\n",
       "      <th>enrolled_university</th>\n",
       "      <th>education_level</th>\n",
       "      <th>experience</th>\n",
       "      <th>company_size</th>\n",
       "      <th>last_new_job</th>\n",
       "      <th>training_hours</th>\n",
       "    </tr>\n",
       "  </thead>\n",
       "  <tbody>\n",
       "    <tr>\n",
       "      <th>0</th>\n",
       "      <td>0.920</td>\n",
       "      <td>Has relevent experience</td>\n",
       "      <td>no_enrollment</td>\n",
       "      <td>Graduate</td>\n",
       "      <td>21</td>\n",
       "      <td>0</td>\n",
       "      <td>1</td>\n",
       "      <td>36</td>\n",
       "    </tr>\n",
       "    <tr>\n",
       "      <th>1</th>\n",
       "      <td>0.776</td>\n",
       "      <td>No relevent experience</td>\n",
       "      <td>no_enrollment</td>\n",
       "      <td>Graduate</td>\n",
       "      <td>15</td>\n",
       "      <td>75</td>\n",
       "      <td>5</td>\n",
       "      <td>47</td>\n",
       "    </tr>\n",
       "    <tr>\n",
       "      <th>2</th>\n",
       "      <td>0.624</td>\n",
       "      <td>No relevent experience</td>\n",
       "      <td>Full time course</td>\n",
       "      <td>Graduate</td>\n",
       "      <td>5</td>\n",
       "      <td>0</td>\n",
       "      <td>0</td>\n",
       "      <td>83</td>\n",
       "    </tr>\n",
       "    <tr>\n",
       "      <th>4</th>\n",
       "      <td>0.767</td>\n",
       "      <td>Has relevent experience</td>\n",
       "      <td>no_enrollment</td>\n",
       "      <td>Masters</td>\n",
       "      <td>21</td>\n",
       "      <td>75</td>\n",
       "      <td>4</td>\n",
       "      <td>8</td>\n",
       "    </tr>\n",
       "    <tr>\n",
       "      <th>5</th>\n",
       "      <td>0.764</td>\n",
       "      <td>Has relevent experience</td>\n",
       "      <td>Part time course</td>\n",
       "      <td>Graduate</td>\n",
       "      <td>11</td>\n",
       "      <td>0</td>\n",
       "      <td>1</td>\n",
       "      <td>24</td>\n",
       "    </tr>\n",
       "    <tr>\n",
       "      <th>...</th>\n",
       "      <td>...</td>\n",
       "      <td>...</td>\n",
       "      <td>...</td>\n",
       "      <td>...</td>\n",
       "      <td>...</td>\n",
       "      <td>...</td>\n",
       "      <td>...</td>\n",
       "      <td>...</td>\n",
       "    </tr>\n",
       "    <tr>\n",
       "      <th>19153</th>\n",
       "      <td>0.878</td>\n",
       "      <td>No relevent experience</td>\n",
       "      <td>no_enrollment</td>\n",
       "      <td>Graduate</td>\n",
       "      <td>14</td>\n",
       "      <td>0</td>\n",
       "      <td>1</td>\n",
       "      <td>42</td>\n",
       "    </tr>\n",
       "    <tr>\n",
       "      <th>19154</th>\n",
       "      <td>0.920</td>\n",
       "      <td>Has relevent experience</td>\n",
       "      <td>no_enrollment</td>\n",
       "      <td>Graduate</td>\n",
       "      <td>14</td>\n",
       "      <td>0</td>\n",
       "      <td>4</td>\n",
       "      <td>52</td>\n",
       "    </tr>\n",
       "    <tr>\n",
       "      <th>19155</th>\n",
       "      <td>0.920</td>\n",
       "      <td>Has relevent experience</td>\n",
       "      <td>no_enrollment</td>\n",
       "      <td>Graduate</td>\n",
       "      <td>21</td>\n",
       "      <td>75</td>\n",
       "      <td>4</td>\n",
       "      <td>44</td>\n",
       "    </tr>\n",
       "    <tr>\n",
       "      <th>19156</th>\n",
       "      <td>0.802</td>\n",
       "      <td>Has relevent experience</td>\n",
       "      <td>no_enrollment</td>\n",
       "      <td>High School</td>\n",
       "      <td>0</td>\n",
       "      <td>750</td>\n",
       "      <td>2</td>\n",
       "      <td>97</td>\n",
       "    </tr>\n",
       "    <tr>\n",
       "      <th>19157</th>\n",
       "      <td>0.855</td>\n",
       "      <td>No relevent experience</td>\n",
       "      <td>no_enrollment</td>\n",
       "      <td>Primary School</td>\n",
       "      <td>2</td>\n",
       "      <td>0</td>\n",
       "      <td>1</td>\n",
       "      <td>127</td>\n",
       "    </tr>\n",
       "  </tbody>\n",
       "</table>\n",
       "<p>18014 rows × 8 columns</p>\n",
       "</div>"
      ],
      "text/plain": [
       "       city_development_index      relevent_experience enrolled_university  \\\n",
       "0                       0.920  Has relevent experience       no_enrollment   \n",
       "1                       0.776   No relevent experience       no_enrollment   \n",
       "2                       0.624   No relevent experience    Full time course   \n",
       "4                       0.767  Has relevent experience       no_enrollment   \n",
       "5                       0.764  Has relevent experience    Part time course   \n",
       "...                       ...                      ...                 ...   \n",
       "19153                   0.878   No relevent experience       no_enrollment   \n",
       "19154                   0.920  Has relevent experience       no_enrollment   \n",
       "19155                   0.920  Has relevent experience       no_enrollment   \n",
       "19156                   0.802  Has relevent experience       no_enrollment   \n",
       "19157                   0.855   No relevent experience       no_enrollment   \n",
       "\n",
       "      education_level  experience  company_size  last_new_job  training_hours  \n",
       "0            Graduate          21             0             1              36  \n",
       "1            Graduate          15            75             5              47  \n",
       "2            Graduate           5             0             0              83  \n",
       "4             Masters          21            75             4               8  \n",
       "5            Graduate          11             0             1              24  \n",
       "...               ...         ...           ...           ...             ...  \n",
       "19153        Graduate          14             0             1              42  \n",
       "19154        Graduate          14             0             4              52  \n",
       "19155        Graduate          21            75             4              44  \n",
       "19156     High School           0           750             2              97  \n",
       "19157  Primary School           2             0             1             127  \n",
       "\n",
       "[18014 rows x 8 columns]"
      ]
     },
     "execution_count": 91,
     "metadata": {},
     "output_type": "execute_result"
    }
   ],
   "source": [
    "X_v2"
   ]
  },
  {
   "cell_type": "code",
   "execution_count": 92,
   "id": "6ce5832e-da34-480e-9c11-f38e76ad8a17",
   "metadata": {},
   "outputs": [],
   "source": [
    "# Codificación\n",
    "X_encoded_v2 = pd.get_dummies(X_v2, drop_first=True)"
   ]
  },
  {
   "cell_type": "code",
   "execution_count": 93,
   "id": "a74b6428-6a73-4599-95ef-8097a31e2a9c",
   "metadata": {},
   "outputs": [],
   "source": [
    "X_encoded_v2 = X_encoded_v2.astype({col: int for col in X_encoded_v2.select_dtypes('bool').columns})"
   ]
  },
  {
   "cell_type": "code",
   "execution_count": 94,
   "id": "e42e0f57-dc0f-48c9-810d-f30ceff3c802",
   "metadata": {},
   "outputs": [
    {
     "data": {
      "text/html": [
       "<div>\n",
       "<style scoped>\n",
       "    .dataframe tbody tr th:only-of-type {\n",
       "        vertical-align: middle;\n",
       "    }\n",
       "\n",
       "    .dataframe tbody tr th {\n",
       "        vertical-align: top;\n",
       "    }\n",
       "\n",
       "    .dataframe thead th {\n",
       "        text-align: right;\n",
       "    }\n",
       "</style>\n",
       "<table border=\"1\" class=\"dataframe\">\n",
       "  <thead>\n",
       "    <tr style=\"text-align: right;\">\n",
       "      <th></th>\n",
       "      <th>feature</th>\n",
       "      <th>VIF</th>\n",
       "    </tr>\n",
       "  </thead>\n",
       "  <tbody>\n",
       "    <tr>\n",
       "      <th>0</th>\n",
       "      <td>city_development_index</td>\n",
       "      <td>11.671546</td>\n",
       "    </tr>\n",
       "    <tr>\n",
       "      <th>1</th>\n",
       "      <td>experience</td>\n",
       "      <td>5.242620</td>\n",
       "    </tr>\n",
       "    <tr>\n",
       "      <th>7</th>\n",
       "      <td>enrolled_university_no_enrollment</td>\n",
       "      <td>6.014768</td>\n",
       "    </tr>\n",
       "  </tbody>\n",
       "</table>\n",
       "</div>"
      ],
      "text/plain": [
       "                             feature        VIF\n",
       "0             city_development_index  11.671546\n",
       "1                         experience   5.242620\n",
       "7  enrolled_university_no_enrollment   6.014768"
      ]
     },
     "execution_count": 94,
     "metadata": {},
     "output_type": "execute_result"
    }
   ],
   "source": [
    "vif_data = pd.DataFrame()\n",
    "vif_data[\"feature\"] = X_encoded_v2.columns\n",
    "vif_data[\"VIF\"] = [variance_inflation_factor(X_encoded_v2.values, i)\n",
    "                   for i in range(X_encoded_v2.shape[1])]\n",
    "\n",
    "vif_data[vif_data[\"VIF\"] > 5]"
   ]
  },
  {
   "cell_type": "code",
   "execution_count": 95,
   "id": "0b1f272e-e0e4-4ab3-a9aa-94bc3af6fb44",
   "metadata": {},
   "outputs": [],
   "source": [
    "# Split\n",
    "X_train_v2, X_test_v2, y_train_v2, y_test_v2 = train_test_split(\n",
    "    X_encoded_v2, y_v2,\n",
    "    train_size = 0.75,\n",
    "    test_size = 0.25\n",
    ")\n",
    "# Escalado\n",
    "\n",
    "scaler_v2 = StandardScaler()\n",
    "X_train_scaled_v2 = scaler_v2.fit_transform(X_train_v2)\n",
    "X_test_scaled_v2 = scaler_v2.transform(X_test_v2)"
   ]
  },
  {
   "cell_type": "code",
   "execution_count": 96,
   "id": "bf8f0388-1541-4dfb-ba93-d75d61450ea9",
   "metadata": {},
   "outputs": [
    {
     "data": {
      "text/html": [
       "<style>#sk-container-id-2 {\n",
       "  /* Definition of color scheme common for light and dark mode */\n",
       "  --sklearn-color-text: black;\n",
       "  --sklearn-color-line: gray;\n",
       "  /* Definition of color scheme for unfitted estimators */\n",
       "  --sklearn-color-unfitted-level-0: #fff5e6;\n",
       "  --sklearn-color-unfitted-level-1: #f6e4d2;\n",
       "  --sklearn-color-unfitted-level-2: #ffe0b3;\n",
       "  --sklearn-color-unfitted-level-3: chocolate;\n",
       "  /* Definition of color scheme for fitted estimators */\n",
       "  --sklearn-color-fitted-level-0: #f0f8ff;\n",
       "  --sklearn-color-fitted-level-1: #d4ebff;\n",
       "  --sklearn-color-fitted-level-2: #b3dbfd;\n",
       "  --sklearn-color-fitted-level-3: cornflowerblue;\n",
       "\n",
       "  /* Specific color for light theme */\n",
       "  --sklearn-color-text-on-default-background: var(--sg-text-color, var(--theme-code-foreground, var(--jp-content-font-color1, black)));\n",
       "  --sklearn-color-background: var(--sg-background-color, var(--theme-background, var(--jp-layout-color0, white)));\n",
       "  --sklearn-color-border-box: var(--sg-text-color, var(--theme-code-foreground, var(--jp-content-font-color1, black)));\n",
       "  --sklearn-color-icon: #696969;\n",
       "\n",
       "  @media (prefers-color-scheme: dark) {\n",
       "    /* Redefinition of color scheme for dark theme */\n",
       "    --sklearn-color-text-on-default-background: var(--sg-text-color, var(--theme-code-foreground, var(--jp-content-font-color1, white)));\n",
       "    --sklearn-color-background: var(--sg-background-color, var(--theme-background, var(--jp-layout-color0, #111)));\n",
       "    --sklearn-color-border-box: var(--sg-text-color, var(--theme-code-foreground, var(--jp-content-font-color1, white)));\n",
       "    --sklearn-color-icon: #878787;\n",
       "  }\n",
       "}\n",
       "\n",
       "#sk-container-id-2 {\n",
       "  color: var(--sklearn-color-text);\n",
       "}\n",
       "\n",
       "#sk-container-id-2 pre {\n",
       "  padding: 0;\n",
       "}\n",
       "\n",
       "#sk-container-id-2 input.sk-hidden--visually {\n",
       "  border: 0;\n",
       "  clip: rect(1px 1px 1px 1px);\n",
       "  clip: rect(1px, 1px, 1px, 1px);\n",
       "  height: 1px;\n",
       "  margin: -1px;\n",
       "  overflow: hidden;\n",
       "  padding: 0;\n",
       "  position: absolute;\n",
       "  width: 1px;\n",
       "}\n",
       "\n",
       "#sk-container-id-2 div.sk-dashed-wrapped {\n",
       "  border: 1px dashed var(--sklearn-color-line);\n",
       "  margin: 0 0.4em 0.5em 0.4em;\n",
       "  box-sizing: border-box;\n",
       "  padding-bottom: 0.4em;\n",
       "  background-color: var(--sklearn-color-background);\n",
       "}\n",
       "\n",
       "#sk-container-id-2 div.sk-container {\n",
       "  /* jupyter's `normalize.less` sets `[hidden] { display: none; }`\n",
       "     but bootstrap.min.css set `[hidden] { display: none !important; }`\n",
       "     so we also need the `!important` here to be able to override the\n",
       "     default hidden behavior on the sphinx rendered scikit-learn.org.\n",
       "     See: https://github.com/scikit-learn/scikit-learn/issues/21755 */\n",
       "  display: inline-block !important;\n",
       "  position: relative;\n",
       "}\n",
       "\n",
       "#sk-container-id-2 div.sk-text-repr-fallback {\n",
       "  display: none;\n",
       "}\n",
       "\n",
       "div.sk-parallel-item,\n",
       "div.sk-serial,\n",
       "div.sk-item {\n",
       "  /* draw centered vertical line to link estimators */\n",
       "  background-image: linear-gradient(var(--sklearn-color-text-on-default-background), var(--sklearn-color-text-on-default-background));\n",
       "  background-size: 2px 100%;\n",
       "  background-repeat: no-repeat;\n",
       "  background-position: center center;\n",
       "}\n",
       "\n",
       "/* Parallel-specific style estimator block */\n",
       "\n",
       "#sk-container-id-2 div.sk-parallel-item::after {\n",
       "  content: \"\";\n",
       "  width: 100%;\n",
       "  border-bottom: 2px solid var(--sklearn-color-text-on-default-background);\n",
       "  flex-grow: 1;\n",
       "}\n",
       "\n",
       "#sk-container-id-2 div.sk-parallel {\n",
       "  display: flex;\n",
       "  align-items: stretch;\n",
       "  justify-content: center;\n",
       "  background-color: var(--sklearn-color-background);\n",
       "  position: relative;\n",
       "}\n",
       "\n",
       "#sk-container-id-2 div.sk-parallel-item {\n",
       "  display: flex;\n",
       "  flex-direction: column;\n",
       "}\n",
       "\n",
       "#sk-container-id-2 div.sk-parallel-item:first-child::after {\n",
       "  align-self: flex-end;\n",
       "  width: 50%;\n",
       "}\n",
       "\n",
       "#sk-container-id-2 div.sk-parallel-item:last-child::after {\n",
       "  align-self: flex-start;\n",
       "  width: 50%;\n",
       "}\n",
       "\n",
       "#sk-container-id-2 div.sk-parallel-item:only-child::after {\n",
       "  width: 0;\n",
       "}\n",
       "\n",
       "/* Serial-specific style estimator block */\n",
       "\n",
       "#sk-container-id-2 div.sk-serial {\n",
       "  display: flex;\n",
       "  flex-direction: column;\n",
       "  align-items: center;\n",
       "  background-color: var(--sklearn-color-background);\n",
       "  padding-right: 1em;\n",
       "  padding-left: 1em;\n",
       "}\n",
       "\n",
       "\n",
       "/* Toggleable style: style used for estimator/Pipeline/ColumnTransformer box that is\n",
       "clickable and can be expanded/collapsed.\n",
       "- Pipeline and ColumnTransformer use this feature and define the default style\n",
       "- Estimators will overwrite some part of the style using the `sk-estimator` class\n",
       "*/\n",
       "\n",
       "/* Pipeline and ColumnTransformer style (default) */\n",
       "\n",
       "#sk-container-id-2 div.sk-toggleable {\n",
       "  /* Default theme specific background. It is overwritten whether we have a\n",
       "  specific estimator or a Pipeline/ColumnTransformer */\n",
       "  background-color: var(--sklearn-color-background);\n",
       "}\n",
       "\n",
       "/* Toggleable label */\n",
       "#sk-container-id-2 label.sk-toggleable__label {\n",
       "  cursor: pointer;\n",
       "  display: block;\n",
       "  width: 100%;\n",
       "  margin-bottom: 0;\n",
       "  padding: 0.5em;\n",
       "  box-sizing: border-box;\n",
       "  text-align: center;\n",
       "}\n",
       "\n",
       "#sk-container-id-2 label.sk-toggleable__label-arrow:before {\n",
       "  /* Arrow on the left of the label */\n",
       "  content: \"▸\";\n",
       "  float: left;\n",
       "  margin-right: 0.25em;\n",
       "  color: var(--sklearn-color-icon);\n",
       "}\n",
       "\n",
       "#sk-container-id-2 label.sk-toggleable__label-arrow:hover:before {\n",
       "  color: var(--sklearn-color-text);\n",
       "}\n",
       "\n",
       "/* Toggleable content - dropdown */\n",
       "\n",
       "#sk-container-id-2 div.sk-toggleable__content {\n",
       "  max-height: 0;\n",
       "  max-width: 0;\n",
       "  overflow: hidden;\n",
       "  text-align: left;\n",
       "  /* unfitted */\n",
       "  background-color: var(--sklearn-color-unfitted-level-0);\n",
       "}\n",
       "\n",
       "#sk-container-id-2 div.sk-toggleable__content.fitted {\n",
       "  /* fitted */\n",
       "  background-color: var(--sklearn-color-fitted-level-0);\n",
       "}\n",
       "\n",
       "#sk-container-id-2 div.sk-toggleable__content pre {\n",
       "  margin: 0.2em;\n",
       "  border-radius: 0.25em;\n",
       "  color: var(--sklearn-color-text);\n",
       "  /* unfitted */\n",
       "  background-color: var(--sklearn-color-unfitted-level-0);\n",
       "}\n",
       "\n",
       "#sk-container-id-2 div.sk-toggleable__content.fitted pre {\n",
       "  /* unfitted */\n",
       "  background-color: var(--sklearn-color-fitted-level-0);\n",
       "}\n",
       "\n",
       "#sk-container-id-2 input.sk-toggleable__control:checked~div.sk-toggleable__content {\n",
       "  /* Expand drop-down */\n",
       "  max-height: 200px;\n",
       "  max-width: 100%;\n",
       "  overflow: auto;\n",
       "}\n",
       "\n",
       "#sk-container-id-2 input.sk-toggleable__control:checked~label.sk-toggleable__label-arrow:before {\n",
       "  content: \"▾\";\n",
       "}\n",
       "\n",
       "/* Pipeline/ColumnTransformer-specific style */\n",
       "\n",
       "#sk-container-id-2 div.sk-label input.sk-toggleable__control:checked~label.sk-toggleable__label {\n",
       "  color: var(--sklearn-color-text);\n",
       "  background-color: var(--sklearn-color-unfitted-level-2);\n",
       "}\n",
       "\n",
       "#sk-container-id-2 div.sk-label.fitted input.sk-toggleable__control:checked~label.sk-toggleable__label {\n",
       "  background-color: var(--sklearn-color-fitted-level-2);\n",
       "}\n",
       "\n",
       "/* Estimator-specific style */\n",
       "\n",
       "/* Colorize estimator box */\n",
       "#sk-container-id-2 div.sk-estimator input.sk-toggleable__control:checked~label.sk-toggleable__label {\n",
       "  /* unfitted */\n",
       "  background-color: var(--sklearn-color-unfitted-level-2);\n",
       "}\n",
       "\n",
       "#sk-container-id-2 div.sk-estimator.fitted input.sk-toggleable__control:checked~label.sk-toggleable__label {\n",
       "  /* fitted */\n",
       "  background-color: var(--sklearn-color-fitted-level-2);\n",
       "}\n",
       "\n",
       "#sk-container-id-2 div.sk-label label.sk-toggleable__label,\n",
       "#sk-container-id-2 div.sk-label label {\n",
       "  /* The background is the default theme color */\n",
       "  color: var(--sklearn-color-text-on-default-background);\n",
       "}\n",
       "\n",
       "/* On hover, darken the color of the background */\n",
       "#sk-container-id-2 div.sk-label:hover label.sk-toggleable__label {\n",
       "  color: var(--sklearn-color-text);\n",
       "  background-color: var(--sklearn-color-unfitted-level-2);\n",
       "}\n",
       "\n",
       "/* Label box, darken color on hover, fitted */\n",
       "#sk-container-id-2 div.sk-label.fitted:hover label.sk-toggleable__label.fitted {\n",
       "  color: var(--sklearn-color-text);\n",
       "  background-color: var(--sklearn-color-fitted-level-2);\n",
       "}\n",
       "\n",
       "/* Estimator label */\n",
       "\n",
       "#sk-container-id-2 div.sk-label label {\n",
       "  font-family: monospace;\n",
       "  font-weight: bold;\n",
       "  display: inline-block;\n",
       "  line-height: 1.2em;\n",
       "}\n",
       "\n",
       "#sk-container-id-2 div.sk-label-container {\n",
       "  text-align: center;\n",
       "}\n",
       "\n",
       "/* Estimator-specific */\n",
       "#sk-container-id-2 div.sk-estimator {\n",
       "  font-family: monospace;\n",
       "  border: 1px dotted var(--sklearn-color-border-box);\n",
       "  border-radius: 0.25em;\n",
       "  box-sizing: border-box;\n",
       "  margin-bottom: 0.5em;\n",
       "  /* unfitted */\n",
       "  background-color: var(--sklearn-color-unfitted-level-0);\n",
       "}\n",
       "\n",
       "#sk-container-id-2 div.sk-estimator.fitted {\n",
       "  /* fitted */\n",
       "  background-color: var(--sklearn-color-fitted-level-0);\n",
       "}\n",
       "\n",
       "/* on hover */\n",
       "#sk-container-id-2 div.sk-estimator:hover {\n",
       "  /* unfitted */\n",
       "  background-color: var(--sklearn-color-unfitted-level-2);\n",
       "}\n",
       "\n",
       "#sk-container-id-2 div.sk-estimator.fitted:hover {\n",
       "  /* fitted */\n",
       "  background-color: var(--sklearn-color-fitted-level-2);\n",
       "}\n",
       "\n",
       "/* Specification for estimator info (e.g. \"i\" and \"?\") */\n",
       "\n",
       "/* Common style for \"i\" and \"?\" */\n",
       "\n",
       ".sk-estimator-doc-link,\n",
       "a:link.sk-estimator-doc-link,\n",
       "a:visited.sk-estimator-doc-link {\n",
       "  float: right;\n",
       "  font-size: smaller;\n",
       "  line-height: 1em;\n",
       "  font-family: monospace;\n",
       "  background-color: var(--sklearn-color-background);\n",
       "  border-radius: 1em;\n",
       "  height: 1em;\n",
       "  width: 1em;\n",
       "  text-decoration: none !important;\n",
       "  margin-left: 1ex;\n",
       "  /* unfitted */\n",
       "  border: var(--sklearn-color-unfitted-level-1) 1pt solid;\n",
       "  color: var(--sklearn-color-unfitted-level-1);\n",
       "}\n",
       "\n",
       ".sk-estimator-doc-link.fitted,\n",
       "a:link.sk-estimator-doc-link.fitted,\n",
       "a:visited.sk-estimator-doc-link.fitted {\n",
       "  /* fitted */\n",
       "  border: var(--sklearn-color-fitted-level-1) 1pt solid;\n",
       "  color: var(--sklearn-color-fitted-level-1);\n",
       "}\n",
       "\n",
       "/* On hover */\n",
       "div.sk-estimator:hover .sk-estimator-doc-link:hover,\n",
       ".sk-estimator-doc-link:hover,\n",
       "div.sk-label-container:hover .sk-estimator-doc-link:hover,\n",
       ".sk-estimator-doc-link:hover {\n",
       "  /* unfitted */\n",
       "  background-color: var(--sklearn-color-unfitted-level-3);\n",
       "  color: var(--sklearn-color-background);\n",
       "  text-decoration: none;\n",
       "}\n",
       "\n",
       "div.sk-estimator.fitted:hover .sk-estimator-doc-link.fitted:hover,\n",
       ".sk-estimator-doc-link.fitted:hover,\n",
       "div.sk-label-container:hover .sk-estimator-doc-link.fitted:hover,\n",
       ".sk-estimator-doc-link.fitted:hover {\n",
       "  /* fitted */\n",
       "  background-color: var(--sklearn-color-fitted-level-3);\n",
       "  color: var(--sklearn-color-background);\n",
       "  text-decoration: none;\n",
       "}\n",
       "\n",
       "/* Span, style for the box shown on hovering the info icon */\n",
       ".sk-estimator-doc-link span {\n",
       "  display: none;\n",
       "  z-index: 9999;\n",
       "  position: relative;\n",
       "  font-weight: normal;\n",
       "  right: .2ex;\n",
       "  padding: .5ex;\n",
       "  margin: .5ex;\n",
       "  width: min-content;\n",
       "  min-width: 20ex;\n",
       "  max-width: 50ex;\n",
       "  color: var(--sklearn-color-text);\n",
       "  box-shadow: 2pt 2pt 4pt #999;\n",
       "  /* unfitted */\n",
       "  background: var(--sklearn-color-unfitted-level-0);\n",
       "  border: .5pt solid var(--sklearn-color-unfitted-level-3);\n",
       "}\n",
       "\n",
       ".sk-estimator-doc-link.fitted span {\n",
       "  /* fitted */\n",
       "  background: var(--sklearn-color-fitted-level-0);\n",
       "  border: var(--sklearn-color-fitted-level-3);\n",
       "}\n",
       "\n",
       ".sk-estimator-doc-link:hover span {\n",
       "  display: block;\n",
       "}\n",
       "\n",
       "/* \"?\"-specific style due to the `<a>` HTML tag */\n",
       "\n",
       "#sk-container-id-2 a.estimator_doc_link {\n",
       "  float: right;\n",
       "  font-size: 1rem;\n",
       "  line-height: 1em;\n",
       "  font-family: monospace;\n",
       "  background-color: var(--sklearn-color-background);\n",
       "  border-radius: 1rem;\n",
       "  height: 1rem;\n",
       "  width: 1rem;\n",
       "  text-decoration: none;\n",
       "  /* unfitted */\n",
       "  color: var(--sklearn-color-unfitted-level-1);\n",
       "  border: var(--sklearn-color-unfitted-level-1) 1pt solid;\n",
       "}\n",
       "\n",
       "#sk-container-id-2 a.estimator_doc_link.fitted {\n",
       "  /* fitted */\n",
       "  border: var(--sklearn-color-fitted-level-1) 1pt solid;\n",
       "  color: var(--sklearn-color-fitted-level-1);\n",
       "}\n",
       "\n",
       "/* On hover */\n",
       "#sk-container-id-2 a.estimator_doc_link:hover {\n",
       "  /* unfitted */\n",
       "  background-color: var(--sklearn-color-unfitted-level-3);\n",
       "  color: var(--sklearn-color-background);\n",
       "  text-decoration: none;\n",
       "}\n",
       "\n",
       "#sk-container-id-2 a.estimator_doc_link.fitted:hover {\n",
       "  /* fitted */\n",
       "  background-color: var(--sklearn-color-fitted-level-3);\n",
       "}\n",
       "</style><div id=\"sk-container-id-2\" class=\"sk-top-container\"><div class=\"sk-text-repr-fallback\"><pre>LogisticRegression(class_weight=&#x27;balanced&#x27;, max_iter=1000, random_state=42)</pre><b>In a Jupyter environment, please rerun this cell to show the HTML representation or trust the notebook. <br />On GitHub, the HTML representation is unable to render, please try loading this page with nbviewer.org.</b></div><div class=\"sk-container\" hidden><div class=\"sk-item\"><div class=\"sk-estimator fitted sk-toggleable\"><input class=\"sk-toggleable__control sk-hidden--visually\" id=\"sk-estimator-id-2\" type=\"checkbox\" checked><label for=\"sk-estimator-id-2\" class=\"sk-toggleable__label fitted sk-toggleable__label-arrow fitted\">&nbsp;&nbsp;LogisticRegression<a class=\"sk-estimator-doc-link fitted\" rel=\"noreferrer\" target=\"_blank\" href=\"https://scikit-learn.org/1.5/modules/generated/sklearn.linear_model.LogisticRegression.html\">?<span>Documentation for LogisticRegression</span></a><span class=\"sk-estimator-doc-link fitted\">i<span>Fitted</span></span></label><div class=\"sk-toggleable__content fitted\"><pre>LogisticRegression(class_weight=&#x27;balanced&#x27;, max_iter=1000, random_state=42)</pre></div> </div></div></div></div>"
      ],
      "text/plain": [
       "LogisticRegression(class_weight='balanced', max_iter=1000, random_state=42)"
      ]
     },
     "execution_count": 96,
     "metadata": {},
     "output_type": "execute_result"
    }
   ],
   "source": [
    "clf_log_v2 = LogisticRegression(\n",
    "    max_iter=1000,\n",
    "    class_weight='balanced',\n",
    "    random_state=42\n",
    ")\n",
    "clf_log_v2.fit(X_train_scaled_v2, y_train_v2)\n"
   ]
  },
  {
   "cell_type": "code",
   "execution_count": 97,
   "id": "4076e464-c638-4060-9460-40444e664bc6",
   "metadata": {},
   "outputs": [
    {
     "name": "stdout",
     "output_type": "stream",
     "text": [
      "[[2457  945]\n",
      " [ 373  729]]\n",
      "              precision    recall  f1-score   support\n",
      "\n",
      "         0.0       0.87      0.72      0.79      3402\n",
      "         1.0       0.44      0.66      0.53      1102\n",
      "\n",
      "    accuracy                           0.71      4504\n",
      "   macro avg       0.65      0.69      0.66      4504\n",
      "weighted avg       0.76      0.71      0.72      4504\n",
      "\n",
      "ROC AUC: 0.7250453720508168\n"
     ]
    }
   ],
   "source": [
    "y_pred_v2 = clf_log_v2.predict(X_test_scaled_v2)\n",
    "y_prob_v2 = clf_log_v2.predict_proba(X_test_scaled_v2)[:, 1]\n",
    "\n",
    "\n",
    "print(confusion_matrix(y_test_v2, y_pred_v2))\n",
    "print(classification_report(y_test_v2, y_pred_v2))\n",
    "print(\"ROC AUC:\", roc_auc_score(y_test_v2, y_prob_v2))"
   ]
  },
  {
   "cell_type": "markdown",
   "id": "ca39665e-ea6b-40e7-9f2b-c1415ddebc95",
   "metadata": {},
   "source": [
    "## Prueba con PCA"
   ]
  },
  {
   "cell_type": "markdown",
   "id": "d8918e36-de20-4410-824b-888c74a78430",
   "metadata": {},
   "source": [
    "### No aumenta precisión, la mejor opción regresión lógistica"
   ]
  },
  {
   "cell_type": "code",
   "execution_count": 21,
   "id": "6fa8ac55-30d6-47da-bef7-3ebfdd65b90f",
   "metadata": {},
   "outputs": [],
   "source": [
    "df_v3 = df.copy()"
   ]
  },
  {
   "cell_type": "code",
   "execution_count": 22,
   "id": "09e3dc33-a9a3-4b33-9e59-8a9a44865311",
   "metadata": {},
   "outputs": [],
   "source": [
    "X = df_v3.drop(columns=[\"target\", \"enrollee_id\"])\n",
    "y = df_v3[\"target\"]"
   ]
  },
  {
   "cell_type": "code",
   "execution_count": 23,
   "id": "5b73fffa-a653-4800-ad91-9f0ff649aaf4",
   "metadata": {},
   "outputs": [],
   "source": [
    "X_encoded = pd.get_dummies(X, drop_first=True)"
   ]
  },
  {
   "cell_type": "code",
   "execution_count": 24,
   "id": "6a349dfd-47bc-4908-8eb2-1229416d9ae4",
   "metadata": {},
   "outputs": [],
   "source": [
    "X_train, X_test, y_train, y_test = train_test_split(\n",
    "    X_encoded, y, test_size=0.25, random_state=42\n",
    ")"
   ]
  },
  {
   "cell_type": "code",
   "execution_count": 25,
   "id": "931c3aa9-8e45-4090-bfa8-a37e2176c79f",
   "metadata": {},
   "outputs": [],
   "source": [
    "scaler = StandardScaler()\n",
    "X_train_scaled = scaler.fit_transform(X_train)\n",
    "X_test_scaled = scaler.transform(X_test)"
   ]
  },
  {
   "cell_type": "code",
   "execution_count": 26,
   "id": "f7de8331-c343-4701-9db5-b0f4d9640c2c",
   "metadata": {},
   "outputs": [
    {
     "name": "stdout",
     "output_type": "stream",
     "text": [
      "Componentes usados: 18\n"
     ]
    }
   ],
   "source": [
    "pca = PCA(n_components=0.95)  # conserva el 95% de la varianza\n",
    "X_train_pca = pca.fit_transform(X_train_scaled)\n",
    "X_test_pca = pca.transform(X_test_scaled)\n",
    "\n",
    "# Para saber cuántos componentes se usaron:\n",
    "print(\"Componentes usados:\", pca.n_components_)"
   ]
  },
  {
   "cell_type": "code",
   "execution_count": 27,
   "id": "d7ebdc06-bbcd-410e-bc87-8e6a9de25cfa",
   "metadata": {},
   "outputs": [
    {
     "name": "stdout",
     "output_type": "stream",
     "text": [
      "[[3084  297]\n",
      " [ 712  411]]\n",
      "              precision    recall  f1-score   support\n",
      "\n",
      "         0.0       0.81      0.91      0.86      3381\n",
      "         1.0       0.58      0.37      0.45      1123\n",
      "\n",
      "    accuracy                           0.78      4504\n",
      "   macro avg       0.70      0.64      0.65      4504\n",
      "weighted avg       0.75      0.78      0.76      4504\n",
      "\n",
      "ROC AUC: 0.7783945588766306\n"
     ]
    }
   ],
   "source": [
    "clf = RandomForestClassifier(max_depth=10, random_state=42)\n",
    "clf.fit(X_train_pca, y_train)\n",
    "\n",
    "y_pred = clf.predict(X_test_pca)\n",
    "y_prob = clf.predict_proba(X_test_pca)[:, 1]\n",
    "\n",
    "print(confusion_matrix(y_test, y_pred))\n",
    "print(classification_report(y_test, y_pred))\n",
    "print(\"ROC AUC:\", roc_auc_score(y_test, y_prob))\n"
   ]
  },
  {
   "cell_type": "markdown",
   "id": "9284e444-da63-4dd3-869a-d10aed49b195",
   "metadata": {},
   "source": [
    "### Con regresión logística y PCA"
   ]
  },
  {
   "cell_type": "markdown",
   "id": "4dfd091c-b0aa-45aa-af42-6bb032e5659d",
   "metadata": {},
   "source": [
    "#### Igual que sin PCA :("
   ]
  },
  {
   "cell_type": "code",
   "execution_count": 28,
   "id": "7c8719db-e2cf-45e6-a87a-d4676f73ac00",
   "metadata": {},
   "outputs": [
    {
     "name": "stdout",
     "output_type": "stream",
     "text": [
      "[[2398  983]\n",
      " [ 304  819]]\n",
      "              precision    recall  f1-score   support\n",
      "\n",
      "         0.0       0.89      0.71      0.79      3381\n",
      "         1.0       0.45      0.73      0.56      1123\n",
      "\n",
      "    accuracy                           0.71      4504\n",
      "   macro avg       0.67      0.72      0.67      4504\n",
      "weighted avg       0.78      0.71      0.73      4504\n",
      "\n",
      "ROC AUC: 0.7676367306378976\n"
     ]
    }
   ],
   "source": [
    "# Crear y entrenar el modelo\n",
    "clf_log = LogisticRegression(\n",
    "    max_iter=1000,\n",
    "    class_weight='balanced',\n",
    "    random_state=42\n",
    ")\n",
    "clf_log.fit(X_train_pca, y_train)\n",
    "\n",
    "# Predicciones\n",
    "y_pred = clf_log.predict(X_test_pca)\n",
    "y_prob = clf_log.predict_proba(X_test_pca)[:, 1]\n",
    "\n",
    "# Evaluación\n",
    "print(confusion_matrix(y_test, y_pred))\n",
    "print(classification_report(y_test, y_pred))\n",
    "print(\"ROC AUC:\", roc_auc_score(y_test, y_prob))"
   ]
  },
  {
   "cell_type": "markdown",
   "id": "d7db9563-2be2-4893-af7b-b0e82f898cd3",
   "metadata": {},
   "source": [
    "## Exportar resultados"
   ]
  },
  {
   "cell_type": "code",
   "execution_count": 19,
   "id": "c1050466-5fa1-47fb-bfd9-46a2b0b39001",
   "metadata": {},
   "outputs": [],
   "source": [
    "resultados = X_test.copy()\n",
    "resultados[\"probabilidad_marcha\"] = y_prob\n",
    "resultados[\"prediccion\"] = y_pred\n",
    "resultados[\"real\"] = y_test.values\n",
    "\n",
    "resultados.to_csv(\"resultados_modelo.csv\", index=False)\n"
   ]
  },
  {
   "cell_type": "markdown",
   "id": "efbb7f41-3b72-4ca9-8a59-73adc16b8e38",
   "metadata": {},
   "source": [
    "### Averiguar que tal funciona el modelo con TEST"
   ]
  },
  {
   "cell_type": "code",
   "execution_count": 21,
   "id": "b587fe58-042c-4f54-af31-568b18643266",
   "metadata": {},
   "outputs": [],
   "source": [
    "# 1. Cargar archivo de test\n",
    "df_test = pd.read_csv(\"aug_test.csv\")\n",
    "\n",
    "# 2. Guardamos una copia original\n",
    "df_test_original = df_test.copy()\n",
    "\n",
    "# 3. Limpieza del test (igual que en train)\n",
    "\n",
    "# Eliminar filas con valores nulos en columnas clave\n",
    "df_test = df_test.dropna(subset=[\"last_new_job\", \"experience\", \"education_level\", \"enrolled_university\"])\n",
    "\n",
    "# Rellenar valores nulos\n",
    "df_test[\"gender\"] = df_test[\"gender\"].fillna(\"Unknown\")\n",
    "df_test[\"major_discipline\"] = df_test[\"major_discipline\"].fillna(\"No Info\")\n",
    "df_test[\"company_size\"] = df_test[\"company_size\"].fillna(\"Unknown\")\n",
    "df_test[\"company_type\"] = df_test[\"company_type\"].fillna(\"Unknown\")\n",
    "\n",
    "# Agrupar categorías en major_discipline\n",
    "df_test[\"major_discipline\"] = df_test[\"major_discipline\"].replace({\n",
    "    'STEM': 'STEM',\n",
    "    'Humanities': 'non-STEM',\n",
    "    'Other': 'non-STEM',\n",
    "    'Business Degree': 'non-STEM',\n",
    "    'No Major': 'non-STEM',\n",
    "    'Arts': 'non-STEM'\n",
    "})\n",
    "\n",
    "# Transformar valores en experience\n",
    "def experience(val):\n",
    "    if val == '>20':\n",
    "        return 21\n",
    "    elif val == '<1':\n",
    "        return 0\n",
    "    else:\n",
    "        return int(val)\n",
    "df_test[\"experience\"] = df_test[\"experience\"].apply(experience)\n",
    "\n",
    "# Transformar valores en company_size\n",
    "def company_size(val):\n",
    "    if val == '<10':\n",
    "        return 5\n",
    "    elif val == '10/49':\n",
    "        return 30\n",
    "    elif val == '50-99':\n",
    "        return 75\n",
    "    elif val == '100-500':\n",
    "        return 300\n",
    "    elif val == '500-999':\n",
    "        return 750\n",
    "    elif val == '1000-4999':\n",
    "        return 3000\n",
    "    elif val == '5000-9999':\n",
    "        return 7500\n",
    "    elif val == '10000+':\n",
    "        return 10000\n",
    "    else:\n",
    "        return 0\n",
    "df_test[\"company_size\"] = df_test[\"company_size\"].apply(company_size)\n",
    "\n",
    "# Transformar valores en last_new_job\n",
    "def last_new_job(val):\n",
    "    if val == 'never':\n",
    "        return 0\n",
    "    elif val == '>4':\n",
    "        return 5\n",
    "    else:\n",
    "        return int(val)\n",
    "df_test[\"last_new_job\"] = df_test[\"last_new_job\"].apply(last_new_job)\n",
    "\n",
    "# Eliminar la columna ciudad si causó multicolinealidad\n",
    "df_test = df_test.drop(columns=['city'], errors='ignore')\n",
    "\n",
    "# 4. One Hot Encoding (con drop_first para evitar multicolinealidad)\n",
    "X_test_final = pd.get_dummies(df_test, drop_first=True)\n",
    "\n",
    "# 5. Igualar columnas al set de entrenamiento\n",
    "missing_cols = set(X_train.columns) - set(X_test_final.columns)\n",
    "for col in missing_cols:\n",
    "    X_test_final[col] = 0\n",
    "X_test_final = X_test_final[X_train.columns]\n",
    "\n",
    "# 6. Escalar los datos con el scaler entrenado\n",
    "X_test_final_scaled = scaler.transform(X_test_final)\n",
    "\n",
    "# 7. Hacer predicciones con tu modelo entrenado\n",
    "y_test_pred = clf_log.predict(X_test_final_scaled)\n",
    "y_test_prob = clf_log.predict_proba(X_test_final_scaled)[:, 1]\n",
    "\n",
    "# 8. Añadir resultados al dataframe original\n",
    "df_test[\"probabilidad_marcha\"] = y_test_prob\n",
    "df_test[\"prediccion_marcha\"] = y_test_pred\n",
    "df_test.to_csv(\"predicciones_test_limpio.csv\", index=False)\n",
    "\n",
    "# 9. Exportar a CSV\n",
    "df_test_original.to_csv(\"predicciones_test.csv\", index=False)\n",
    "\n"
   ]
  },
  {
   "cell_type": "code",
   "execution_count": 23,
   "id": "01fec4ab-1e05-4b66-bdf1-045d5261d955",
   "metadata": {},
   "outputs": [
    {
     "name": "stdout",
     "output_type": "stream",
     "text": [
      "                        Valores únicos  Valores nulos  Porcentaje nulos (%)\n",
      "enrollee_id                       2018              0                   0.0\n",
      "city_development_index              80              0                   0.0\n",
      "gender                               4              0                   0.0\n",
      "relevent_experience                  2              0                   0.0\n",
      "enrolled_university                  3              0                   0.0\n",
      "education_level                      5              0                   0.0\n",
      "major_discipline                     3              0                   0.0\n",
      "experience                          22              0                   0.0\n",
      "company_size                         9              0                   0.0\n",
      "company_type                         7              0                   0.0\n",
      "last_new_job                         6              0                   0.0\n",
      "training_hours                     221              0                   0.0\n",
      "probabilidad_marcha               2016              0                   0.0\n",
      "prediccion_marcha                    2              0                   0.0\n"
     ]
    }
   ],
   "source": [
    "#Descubrir valores únicos y nulos\n",
    "unique_values = df_test.nunique()\n",
    "missing_values = df_test.isnull().sum()\n",
    "\n",
    "# Crear resumen combinado\n",
    "summary = pd.DataFrame({\n",
    "    \"Valores únicos\": unique_values,\n",
    "    \"Valores nulos\": missing_values,\n",
    "    \"Porcentaje nulos (%)\": (missing_values / len(df) * 100).round(2)\n",
    "})\n",
    "\n",
    "# Visualizar resumen\n",
    "print(summary)"
   ]
  },
  {
   "cell_type": "code",
   "execution_count": 24,
   "id": "35df722c-01bf-4dd1-8402-ad31046bd51e",
   "metadata": {},
   "outputs": [
    {
     "data": {
      "text/plain": [
       "(2129, 13)"
      ]
     },
     "execution_count": 24,
     "metadata": {},
     "output_type": "execute_result"
    }
   ],
   "source": [
    "df_test.shape\n"
   ]
  },
  {
   "cell_type": "code",
   "execution_count": 25,
   "id": "75644643-5d20-4b68-a8ce-2118d6f7df54",
   "metadata": {},
   "outputs": [
    {
     "data": {
      "text/plain": [
       "(2129, 13)"
      ]
     },
     "execution_count": 25,
     "metadata": {},
     "output_type": "execute_result"
    }
   ],
   "source": [
    "df_test_original.shape"
   ]
  }
 ],
 "metadata": {
  "kernelspec": {
   "display_name": "Python [conda env:base] *",
   "language": "python",
   "name": "conda-base-py"
  },
  "language_info": {
   "codemirror_mode": {
    "name": "ipython",
    "version": 3
   },
   "file_extension": ".py",
   "mimetype": "text/x-python",
   "name": "python",
   "nbconvert_exporter": "python",
   "pygments_lexer": "ipython3",
   "version": "3.12.7"
  }
 },
 "nbformat": 4,
 "nbformat_minor": 5
}
